{
  "nbformat": 4,
  "nbformat_minor": 0,
  "metadata": {
    "kernelspec": {
      "display_name": "Python 3",
      "language": "python",
      "name": "python3"
    },
    "language_info": {
      "codemirror_mode": {
        "name": "ipython",
        "version": 3
      },
      "file_extension": ".py",
      "mimetype": "text/x-python",
      "name": "python",
      "nbconvert_exporter": "python",
      "pygments_lexer": "ipython3",
      "version": "3.7.6"
    },
    "colab": {
      "name": "Decision_Tree_scratch.ipynb",
      "provenance": [],
      "include_colab_link": true
    }
  },
  "cells": [
    {
      "cell_type": "markdown",
      "metadata": {
        "id": "view-in-github",
        "colab_type": "text"
      },
      "source": [
        "<a href=\"https://colab.research.google.com/github/mihirkumar28/LP-3/blob/main/Decision_Tree_scratch.ipynb\" target=\"_parent\"><img src=\"https://colab.research.google.com/assets/colab-badge.svg\" alt=\"Open In Colab\"/></a>"
      ]
    },
    {
      "cell_type": "code",
      "metadata": {
        "id": "M2KLvjNSDpKf"
      },
      "source": [
        "import numpy as np\n",
        "import pandas as pd\n",
        "import matplotlib.pyplot as plt\n",
        "import seaborn as sns\n",
        "from sklearn.tree import DecisionTreeClassifier"
      ],
      "execution_count": null,
      "outputs": []
    },
    {
      "cell_type": "code",
      "metadata": {
        "colab": {
          "base_uri": "https://localhost:8080/",
          "height": 206
        },
        "id": "CdYrOlgpDpKg",
        "outputId": "f7d3e212-c010-4ed1-c274-cb820df75374"
      },
      "source": [
        "# Generating dataset\n",
        "data = {\n",
        "    'age': ['<21', '<21', '21-35', '>35', '>35', '>35', '21-35', '<21', '<21', '>35', '<21', '21-35', '21-35', '>35'], \n",
        "    'income':['high','high','high','medium','low','low','low','medium','low','medium','medium','medium','high','medium'],\n",
        "    'gender':['male','male','male','male','female','female','female','male','female','female','female','male','female','male'],\n",
        "    'marital_status':['single', 'married', 'single', 'single', 'single', 'married', 'married', 'single', 'married','single','married','married','single','married'],\n",
        "    'buys':['no','no','yes','yes','yes','no','yes','no','yes','yes','yes','yes','yes','no']\n",
        "} \n",
        "df = pd.DataFrame.from_dict(data) \n",
        "df.head()"
      ],
      "execution_count": null,
      "outputs": [
        {
          "output_type": "execute_result",
          "data": {
            "text/html": [
              "<div>\n",
              "<style scoped>\n",
              "    .dataframe tbody tr th:only-of-type {\n",
              "        vertical-align: middle;\n",
              "    }\n",
              "\n",
              "    .dataframe tbody tr th {\n",
              "        vertical-align: top;\n",
              "    }\n",
              "\n",
              "    .dataframe thead th {\n",
              "        text-align: right;\n",
              "    }\n",
              "</style>\n",
              "<table border=\"1\" class=\"dataframe\">\n",
              "  <thead>\n",
              "    <tr style=\"text-align: right;\">\n",
              "      <th></th>\n",
              "      <th>age</th>\n",
              "      <th>income</th>\n",
              "      <th>gender</th>\n",
              "      <th>marital_status</th>\n",
              "      <th>buys</th>\n",
              "    </tr>\n",
              "  </thead>\n",
              "  <tbody>\n",
              "    <tr>\n",
              "      <th>0</th>\n",
              "      <td>&lt;21</td>\n",
              "      <td>high</td>\n",
              "      <td>male</td>\n",
              "      <td>single</td>\n",
              "      <td>no</td>\n",
              "    </tr>\n",
              "    <tr>\n",
              "      <th>1</th>\n",
              "      <td>&lt;21</td>\n",
              "      <td>high</td>\n",
              "      <td>male</td>\n",
              "      <td>married</td>\n",
              "      <td>no</td>\n",
              "    </tr>\n",
              "    <tr>\n",
              "      <th>2</th>\n",
              "      <td>21-35</td>\n",
              "      <td>high</td>\n",
              "      <td>male</td>\n",
              "      <td>single</td>\n",
              "      <td>yes</td>\n",
              "    </tr>\n",
              "    <tr>\n",
              "      <th>3</th>\n",
              "      <td>&gt;35</td>\n",
              "      <td>medium</td>\n",
              "      <td>male</td>\n",
              "      <td>single</td>\n",
              "      <td>yes</td>\n",
              "    </tr>\n",
              "    <tr>\n",
              "      <th>4</th>\n",
              "      <td>&gt;35</td>\n",
              "      <td>low</td>\n",
              "      <td>female</td>\n",
              "      <td>single</td>\n",
              "      <td>yes</td>\n",
              "    </tr>\n",
              "  </tbody>\n",
              "</table>\n",
              "</div>"
            ],
            "text/plain": [
              "     age  income  gender marital_status buys\n",
              "0    <21    high    male         single   no\n",
              "1    <21    high    male        married   no\n",
              "2  21-35    high    male         single  yes\n",
              "3    >35  medium    male         single  yes\n",
              "4    >35     low  female         single  yes"
            ]
          },
          "metadata": {
            "tags": []
          },
          "execution_count": 3
        }
      ]
    },
    {
      "cell_type": "code",
      "metadata": {
        "colab": {
          "base_uri": "https://localhost:8080/"
        },
        "id": "bJQH-zPADpKi",
        "outputId": "a4f0ce35-1b60-4b4a-80a2-df84d9fb4528"
      },
      "source": [
        "df.info()"
      ],
      "execution_count": null,
      "outputs": [
        {
          "output_type": "stream",
          "text": [
            "<class 'pandas.core.frame.DataFrame'>\n",
            "RangeIndex: 14 entries, 0 to 13\n",
            "Data columns (total 5 columns):\n",
            " #   Column          Non-Null Count  Dtype \n",
            "---  ------          --------------  ----- \n",
            " 0   age             14 non-null     object\n",
            " 1   income          14 non-null     object\n",
            " 2   gender          14 non-null     object\n",
            " 3   marital_status  14 non-null     object\n",
            " 4   buys            14 non-null     object\n",
            "dtypes: object(5)\n",
            "memory usage: 688.0+ bytes\n"
          ],
          "name": "stdout"
        }
      ]
    },
    {
      "cell_type": "code",
      "metadata": {
        "colab": {
          "base_uri": "https://localhost:8080/",
          "height": 765
        },
        "id": "4gu64hXpDpKj",
        "outputId": "b842c282-feb5-471c-b374-294c6a7b13da"
      },
      "source": [
        "_,axes=plt.subplots(2,2,figsize=(10,10))\n",
        "sns.countplot(df.age,hue=df['buys'],ax=axes[0,0])\n",
        "sns.countplot(df.income,hue=df['buys'],ax=axes[0,1])\n",
        "sns.countplot(df.gender,hue=df['buys'],ax=axes[1,0])\n",
        "sns.countplot(df.marital_status,hue=df['buys'],ax=axes[1,1])\n",
        "plt.show()"
      ],
      "execution_count": null,
      "outputs": [
        {
          "output_type": "stream",
          "text": [
            "/usr/local/lib/python3.7/dist-packages/seaborn/_decorators.py:43: FutureWarning: Pass the following variable as a keyword arg: x. From version 0.12, the only valid positional argument will be `data`, and passing other arguments without an explicit keyword will result in an error or misinterpretation.\n",
            "  FutureWarning\n",
            "/usr/local/lib/python3.7/dist-packages/seaborn/_decorators.py:43: FutureWarning: Pass the following variable as a keyword arg: x. From version 0.12, the only valid positional argument will be `data`, and passing other arguments without an explicit keyword will result in an error or misinterpretation.\n",
            "  FutureWarning\n",
            "/usr/local/lib/python3.7/dist-packages/seaborn/_decorators.py:43: FutureWarning: Pass the following variable as a keyword arg: x. From version 0.12, the only valid positional argument will be `data`, and passing other arguments without an explicit keyword will result in an error or misinterpretation.\n",
            "  FutureWarning\n",
            "/usr/local/lib/python3.7/dist-packages/seaborn/_decorators.py:43: FutureWarning: Pass the following variable as a keyword arg: x. From version 0.12, the only valid positional argument will be `data`, and passing other arguments without an explicit keyword will result in an error or misinterpretation.\n",
            "  FutureWarning\n"
          ],
          "name": "stderr"
        },
        {
          "output_type": "display_data",
          "data": {
            "image/png": "[encoded data removed]",
            "text/plain": [
              "<Figure size 720x720 with 4 Axes>"
            ]
          },
          "metadata": {
            "tags": [],
            "needs_background": "light"
          }
        }
      ]
    },
    {
      "cell_type": "code",
      "metadata": {
        "id": "gqdv_SlQDpKj"
      },
      "source": [
        "def encode_data(df, target):\n",
        "    cat_cols = []\n",
        "    for column in df.columns:\n",
        "        if (df[column].dtype == \"object\") and (column != target): \n",
        "            if len(df[column].unique()) > 2: \n",
        "                cat_cols.append(column)\n",
        "                features = df[column].value_counts().index.tolist()\n",
        "                for key in features:\n",
        "                    col_name = f\"{column}_{key}\"\n",
        "                    df[col_name] = 0\n",
        "                    df.loc[df[column] == key, col_name] = 1\n",
        "    df.drop(columns=cat_cols,inplace=True)\n",
        "    return df"
      ],
      "execution_count": null,
      "outputs": []
    },
    {
      "cell_type": "code",
      "metadata": {
        "id": "eNOFFw27DpKk"
      },
      "source": [
        "def preprocess_data(df):\n",
        "    df_encoded = encode_data(df, 'buys') \n",
        "    for col in df.columns:\n",
        "        if (df[col].dtype == \"object\") and (len(df[col].unique()) == 2):\n",
        "            unique_values = df[col].unique()\n",
        "            df_encoded[col]=df_encoded[col].map({f'{unique_values[0]}':0, f'{unique_values[1]}':1})\n",
        "    return df_encoded"
      ],
      "execution_count": null,
      "outputs": []
    },
    {
      "cell_type": "code",
      "metadata": {
        "colab": {
          "base_uri": "https://localhost:8080/"
        },
        "id": "hMrXEyY4DpKk",
        "outputId": "730a0c30-7f87-416e-b0fb-ea822f36f5a4"
      },
      "source": [
        "df_encoded = preprocess_data(df.copy())\n",
        "print(df_encoded)"
      ],
      "execution_count": null,
      "outputs": [
        {
          "output_type": "stream",
          "text": [
            "    gender  marital_status  buys  ...  income_medium  income_high  income_low\n",
            "0        0               0     0  ...              0            1           0\n",
            "1        0               1     0  ...              0            1           0\n",
            "2        0               0     1  ...              0            1           0\n",
            "3        0               0     1  ...              1            0           0\n",
            "4        1               0     1  ...              0            0           1\n",
            "5        1               1     0  ...              0            0           1\n",
            "6        1               1     1  ...              0            0           1\n",
            "7        0               0     0  ...              1            0           0\n",
            "8        1               1     1  ...              0            0           1\n",
            "9        1               0     1  ...              1            0           0\n",
            "10       1               1     1  ...              1            0           0\n",
            "11       0               1     1  ...              1            0           0\n",
            "12       1               0     1  ...              0            1           0\n",
            "13       0               1     0  ...              1            0           0\n",
            "\n",
            "[14 rows x 9 columns]\n"
          ],
          "name": "stdout"
        }
      ]
    },
    {
      "cell_type": "code",
      "metadata": {
        "id": "odRDyfBLDpKn"
      },
      "source": [
        "def gini_index(feature, data):\n",
        "    gini_index = 0\n",
        "    if len(data) == 0:\n",
        "        return 0\n",
        "    else: total_count = len(data)   \n",
        "    unique_target_values = data['buys'].unique()\n",
        "    unique_feature_values = data[feature].unique()\n",
        "    for j in unique_target_values: \n",
        "        target_value_count = data['buys'].value_counts()[j]\n",
        "        probability2_sum = 0\n",
        "        for i in unique_feature_values:\n",
        "            count = len(data[(data[feature] == i) & (data['buys'] == j)])\n",
        "            probability = count/target_value_count\n",
        "            probability2_sum = probability2_sum + probability**2\n",
        "        target_probability = target_value_count/total_count\n",
        "        gini_index = gini_index + (1 - probability2_sum)*(target_probability)\n",
        "    return gini_index"
      ],
      "execution_count": null,
      "outputs": []
    },
    {
      "cell_type": "code",
      "metadata": {
        "id": "q4PJrD1oDpKo"
      },
      "source": [
        "def find_best_split(features, data, metric):\n",
        "    print('Available features =', len(features))\n",
        "    print('Number of datapoints =', len(data))\n",
        "    best_feature = ''\n",
        "    best_metric = 1\n",
        "    for feature in features:\n",
        "        if metric=='gini':\n",
        "            curr_criteria = gini_index(feature, data)\n",
        "        if curr_criteria < best_metric:\n",
        "            best_feature=feature\n",
        "            best_metric=curr_criteria\n",
        "            \n",
        "    print(f'Best feature: {best_feature} with {metric} = {best_metric}')\n",
        "    return best_feature"
      ],
      "execution_count": null,
      "outputs": []
    },
    {
      "cell_type": "code",
      "metadata": {
        "id": "gxtcQN4RDpKo"
      },
      "source": [
        "def create_leaf(data):\n",
        "    leaf = {'splitting_feature' : None,\n",
        "            'left' : None,\n",
        "            'right' : None,\n",
        "            'is_leaf': True,\n",
        "            'size': len(data)}\n",
        "    target_value_counts = data['buys'].value_counts()\n",
        "    target_unique_values = data['buys'].unique()\n",
        "    predicted_value = target_unique_values[0]\n",
        "    for i in target_unique_values:\n",
        "        if target_value_counts[i] > target_value_counts[predicted_value]:\n",
        "            predicted_value = i\n",
        "    leaf['prediction'] = predicted_value\n",
        "    return leaf "
      ],
      "execution_count": null,
      "outputs": []
    },
    {
      "cell_type": "code",
      "metadata": {
        "id": "AqYbEMqVDpKo"
      },
      "source": [
        "def check_purity(data):\n",
        "    target_value_counts = data['buys'].value_counts()\n",
        "    target_unique_values = data['buys'].unique()\n",
        "    for i in target_unique_values:\n",
        "        if target_value_counts[i] == 0:\n",
        "            return True\n",
        "    return False"
      ],
      "execution_count": null,
      "outputs": []
    },
    {
      "cell_type": "code",
      "metadata": {
        "id": "ISshpCQYDpKo"
      },
      "source": [
        "def create_decision_tree(rem_features, data, curr_depth, metric, max_depth):\n",
        "    if rem_features == []:\n",
        "        return create_leaf(data)\n",
        "    \n",
        "    if check_purity(data):\n",
        "        return create_leaf(data)\n",
        "    \n",
        "    if curr_depth>=max_depth:\n",
        "        return create_leaf(data)\n",
        "    \n",
        "    if len(data)<3:\n",
        "        return create_leaf(data)\n",
        "    \n",
        "    print('\\nFor level', curr_depth)\n",
        "    selected_feature = find_best_split(rem_features, data, metric)\n",
        "    \n",
        "    rem_features.remove(selected_feature)\n",
        "    left_split=data[data[selected_feature]==0]\n",
        "    right_split=data[data[selected_feature]==1]\n",
        "    \n",
        "    if len(left_split) == len(data):\n",
        "        return create_leaf(left_split)\n",
        "    \n",
        "    if len(right_split) == len(data):\n",
        "        return create_leaf(right_split)\n",
        "    \n",
        "    left=create_decision_tree(rem_features, left_split, curr_depth+1, metric, max_depth)\n",
        "    right=create_decision_tree(rem_features, right_split, curr_depth+1, metric, max_depth)\n",
        "    \n",
        "    return {'is_leaf'          : False, \n",
        "            'prediction'       : None,\n",
        "            'splitting_feature': selected_feature,\n",
        "            'left'             : left, \n",
        "            'right'            : right,\n",
        "            'size'             : len(data)}"
      ],
      "execution_count": null,
      "outputs": []
    },
    {
      "cell_type": "code",
      "metadata": {
        "id": "eKCVPoNBDpKp"
      },
      "source": [
        "def print_tree(tree, level, store):\n",
        "    if not tree:\n",
        "        return\n",
        "    split_name = tree['splitting_feature']\n",
        "    dashes='-'*level*3\n",
        "    \n",
        "    string=''\n",
        "    if tree['is_leaf']==False:\n",
        "        print(dashes, store)\n",
        "    else:\n",
        "        if tree['size']>0:\n",
        "            print(dashes, store, \" PREDICTION: \", tree['prediction'], 'size=', tree['size'])\n",
        "    \n",
        "    left_store=store.copy()\n",
        "    left_store[split_name]=0\n",
        "    print_tree(tree['left'], level+1, left_store)\n",
        "    \n",
        "    right_store=store.copy()\n",
        "    right_store[split_name]=1\n",
        "    print_tree(tree['right'], level+1, right_store)"
      ],
      "execution_count": null,
      "outputs": []
    },
    {
      "cell_type": "code",
      "metadata": {
        "id": "vpHB-hE-DpKp"
      },
      "source": [
        "def build_tree(df_encoded, max_depth, metric):\n",
        "    features = list(df_encoded.columns)\n",
        "    features.remove('buys')\n",
        "    decision_tree=create_decision_tree(features, df_encoded, 0, metric, max_depth)\n",
        "    return decision_tree"
      ],
      "execution_count": null,
      "outputs": []
    },
    {
      "cell_type": "code",
      "metadata": {
        "scrolled": false,
        "colab": {
          "base_uri": "https://localhost:8080/"
        },
        "id": "XRHtOpQoDpKp",
        "outputId": "5d959761-8469-42a6-9dd3-8effacd87682"
      },
      "source": [
        "metric =  'gini'\n",
        "max_depth = 1\n",
        "decision_tree = build_tree(df_encoded, max_depth, metric)"
      ],
      "execution_count": null,
      "outputs": [
        {
          "output_type": "stream",
          "text": [
            "\n",
            "For level 0\n",
            "Available features = 8\n",
            "Number of datapoints = 14\n",
            "Best feature: age_21-35 with gini = 0.31746031746031744\n"
          ],
          "name": "stdout"
        }
      ]
    }
  ]
}